{
 "cells": [
  {
   "cell_type": "markdown",
   "metadata": {},
   "source": [
    "# DATA STRUCTURE AND ALGORITHM PROBLEMS\n",
    "## Find the mersenne numbers\n",
    "\n",
    "In mathematics, a **Mersenne prime** is a prime number that is one less than a power of two."
   ]
  },
  {
   "cell_type": "markdown",
   "metadata": {},
   "source": [
    "A Mersenne number is any number that can be written as `2^p - 1` for some `p`, Where `p` is an exponent.\n",
    "\n",
    "For example, 3 is a Mersenne number `(2^2 - 1)` as is 31 `(2^5 - 1)`. "
   ]
  },
  {
   "cell_type": "markdown",
   "metadata": {},
   "source": [
    "$$2^3 -1 = 8-1 = 7$$\n",
    "\n",
    "$$2^4 -1 = 16-1 = 15$$ \n",
    "\n",
    "$$2^5 - 1 = 32-1 = 31$$\n",
    "\n",
    "\n",
    "`15` is not a mersenne number because the exponent `4`  is  not a prime."
   ]
  },
  {
   "cell_type": "markdown",
   "metadata": {},
   "source": [
    "**Q**: What is prime number?"
   ]
  },
  {
   "cell_type": "markdown",
   "metadata": {},
   "source": [
    "**A prime number** is a natural number greater than `1` that is not a product of two smaller natural numbers. A natural number greater than `1` that is not prime is called a **composite number**. \n",
    "\n",
    "For example, `5` is prime because the only ways of writing it as a product, `1 × 5 or 5 × 1`, involve 5 itself."
   ]
  },
  {
   "cell_type": "markdown",
   "metadata": {},
   "source": [
    "**Prime numbers** are numbers that have only `2` factors: `1` and themselves.\n",
    "\n",
    "For example, the first `5` prime numbers are `2`, `3`, `5`, `7`, and `11`.\n",
    "\n",
    "By contrast, numbers with more than `2` factors are call `composite numbers`."
   ]
  },
  {
   "cell_type": "markdown",
   "metadata": {},
   "source": [
    "**Coding Problem:** Write a function that accepts an exponent `p` and returns the corresponding Mersenne number.\n",
    "\n",
    "\n",
    "Make a list of the Mersenne numbers for all primes `p` between `3 and 65` (there should be 17 of them)."
   ]
  },
  {
   "cell_type": "markdown",
   "metadata": {},
   "source": [
    "**Hint**: It may be useful to define the `is_prime` and `get_primes` functions  for use in this problem."
   ]
  },
  {
   "cell_type": "code",
   "execution_count": 16,
   "metadata": {},
   "outputs": [],
   "source": [
    "# Define is_prime(number) function to check the number is prime or note\n",
    "# Which accept a parameter number \n",
    "\n",
    "\n",
    "# Define get_primes(n_start, n_end) function which accepts two parameters\n",
    "# and prints the list of prime numbers\n",
    "\n"
   ]
  },
  {
   "cell_type": "code",
   "execution_count": 17,
   "metadata": {},
   "outputs": [],
   "source": [
    "# Define mersenne_number(p) function which accept an exponent p \n",
    "# as a parameter and returns the list of corresponding mersenne numbers\n"
   ]
  },
  {
   "cell_type": "code",
   "execution_count": 18,
   "metadata": {},
   "outputs": [],
   "source": [
    "# Call get_primes(3, 65)"
   ]
  }
 ],
 "metadata": {
  "kernelspec": {
   "display_name": "Python 3",
   "language": "python",
   "name": "python3"
  },
  "language_info": {
   "codemirror_mode": {
    "name": "ipython",
    "version": 3
   },
   "file_extension": ".py",
   "mimetype": "text/x-python",
   "name": "python",
   "nbconvert_exporter": "python",
   "pygments_lexer": "ipython3",
   "version": "3.8.3"
  }
 },
 "nbformat": 4,
 "nbformat_minor": 4
}
